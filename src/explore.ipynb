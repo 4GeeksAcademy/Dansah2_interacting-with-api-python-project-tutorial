{
    "cells": [
        {
            "cell_type": "markdown",
            "metadata": {},
            "source": [
                "# Explore here"
            ]
        },
        {
            "cell_type": "code",
            "execution_count": 1,
            "metadata": {},
            "outputs": [
                {
                    "data": {
                        "text/plain": [
                            "True"
                        ]
                    },
                    "execution_count": 1,
                    "metadata": {},
                    "output_type": "execute_result"
                }
            ],
            "source": [
                "import os\n",
                "import pandas as pd\n",
                "from dotenv import load_dotenv\n",
                "import spotipy\n",
                "from spotipy.oauth2 import SpotifyClientCredentials\n",
                "\n",
                "# load the .env file variables\n",
                "load_dotenv()"
            ]
        },
        {
            "cell_type": "code",
            "execution_count": 2,
            "metadata": {},
            "outputs": [],
            "source": [
                "# obtain the client ID and Secret from the .env file\n",
                "client_id = os.environ.get(\"CLIENT_ID\")\n",
                "client_secret = os.environ.get(\"CLIENT_SECRET\")"
            ]
        },
        {
            "cell_type": "code",
            "execution_count": 13,
            "metadata": {},
            "outputs": [],
            "source": [
                "# connect with the spotify API\n",
                "spotify_connect = spotipy.Spotify(auth_manager=SpotifyClientCredentials(client_id=client_id, client_secret=client_secret), requests_timeout=25)"
            ]
        },
        {
            "cell_type": "code",
            "execution_count": 15,
            "metadata": {},
            "outputs": [
                {
                    "name": "stdout",
                    "output_type": "stream",
                    "text": [
                        "1. luther (with sza), popularity: 88, duration: 2.96\n",
                        "2. BMF, popularity: 89, duration: 3.01\n",
                        "3. Kill Bill, popularity: 85, duration: 2.57\n",
                        "4. Snooze, popularity: 87, duration: 3.36\n",
                        "5. All The Stars (with SZA), popularity: 87, duration: 3.87\n",
                        "6. Saturn, popularity: 81, duration: 3.1\n",
                        "7. 30 For 30 (with Kendrick Lamar), popularity: 86, duration: 4.64\n",
                        "8. Nobody Gets Me, popularity: 85, duration: 3.01\n",
                        "9. Open Arms (feat. Travis Scott), popularity: 81, duration: 3.99\n",
                        "10. Kiss Me More (feat. SZA), popularity: 81, duration: 3.48\n"
                    ]
                }
            ],
            "source": [
                "# Get the top 10 of your favorite artist's songs. Keep the tracks element, which will contain the most played songs of the artist, \n",
                "# keep the name of the song, the popularity and the duration (in minutes).\n",
                "\n",
                "sza_uri = '7tYKF4w9nC0nq9CsPZTHyP'\n",
                "sza_data = spotify_connect.artist_top_tracks(sza_uri, country='US')\n",
                "top_tracks = []\n",
                "\n",
                "for i, track in enumerate(sza_data['tracks'][:10], 1):\n",
                "    track_info = {\n",
                "        'name': track['name'],\n",
                "        'popularity': track['popularity'],\n",
                "        'duration_min': round(track['duration_ms'] / 60000, 2)\n",
                "    }\n",
                "    top_tracks.append(track_info)\n",
                "\n",
                "    print(f\"{i}. {track['name']}, popularity: {track['popularity']}, duration: {round(track['duration_ms'] / 60000, 2)}\")"
            ]
        },
        {
            "cell_type": "code",
            "execution_count": 17,
            "metadata": {},
            "outputs": [
                {
                    "name": "stdout",
                    "output_type": "stream",
                    "text": [
                        "                              name  popularity  duration_min\n",
                        "0                luther (with sza)          88          2.96\n",
                        "1                              BMF          89          3.01\n",
                        "2                        Kill Bill          85          2.57\n",
                        "3                           Snooze          87          3.36\n",
                        "4         All The Stars (with SZA)          87          3.87\n",
                        "5                           Saturn          81          3.10\n",
                        "6  30 For 30 (with Kendrick Lamar)          86          4.64\n",
                        "7                   Nobody Gets Me          85          3.01\n",
                        "8   Open Arms (feat. Travis Scott)          81          3.99\n",
                        "9         Kiss Me More (feat. SZA)          81          3.48\n"
                    ]
                }
            ],
            "source": [
                "# Convert to a DataFrame.\n",
                "top_traks_df = pd.DataFrame(top_tracks)\n",
                "print(top_traks_df)"
            ]
        },
        {
            "cell_type": "code",
            "execution_count": 25,
            "metadata": {},
            "outputs": [
                {
                    "name": "stdout",
                    "output_type": "stream",
                    "text": [
                        "                name  popularity  duration_min\n",
                        "1                BMF          89          3.01\n",
                        "0  luther (with sza)          88          2.96\n",
                        "3             Snooze          87          3.36\n"
                    ]
                }
            ],
            "source": [
                "# Sort the songs by increasing popularity and display the resulting top 3.\n",
                "top_traks_df = top_traks_df.sort_values(by='popularity', ascending=False)\n",
                "print(top_traks_df.head(3))\n"
            ]
        },
        {
            "cell_type": "code",
            "execution_count": null,
            "metadata": {},
            "outputs": [],
            "source": [
                "# Does duration have a relationship with popularity? \n",
                "# Are shorter songs more popular than longer songs? \n",
                "# Analyze it by plotting a scatter plot\n",
                "\n"
            ]
        }
    ],
    "metadata": {
        "kernelspec": {
            "display_name": ".venv",
            "language": "python",
            "name": "python3"
        },
        "language_info": {
            "codemirror_mode": {
                "name": "ipython",
                "version": 3
            },
            "file_extension": ".py",
            "mimetype": "text/x-python",
            "name": "python",
            "nbconvert_exporter": "python",
            "pygments_lexer": "ipython3",
            "version": "3.11.4"
        },
        "orig_nbformat": 4
    },
    "nbformat": 4,
    "nbformat_minor": 2
}
